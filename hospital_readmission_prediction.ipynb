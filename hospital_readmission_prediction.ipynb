{
  "nbformat": 4,
  "nbformat_minor": 0,
  "metadata": {
    "colab": {
      "provenance": []
    },
    "kernelspec": {
      "name": "python3",
      "display_name": "Python 3"
    },
    "language_info": {
      "name": "python"
    }
  },
  "cells": [
    {
      "cell_type": "code",
      "source": [
        "import pandas as pd  # Import Pandas for data handling\n",
        "\n",
        "# Define the file path where the dataset is stored\n",
        "file_path = \"/content/FY_2024_Hospital_Readmissions_Reduction_Program_Hospital.csv\"\n",
        "\n",
        "# Load the dataset into a Pandas DataFrame\n",
        "df = pd.read_csv(file_path)\n",
        "\n",
        "# Quick check: Display the first few rows to understand the structure\n",
        "df.head()\n"
      ],
      "metadata": {
        "colab": {
          "base_uri": "https://localhost:8080/",
          "height": 521
        },
        "id": "gfr0XY9N4SzC",
        "outputId": "b63d2a63-be5a-4e37-d332-dc6f27249596"
      },
      "execution_count": 13,
      "outputs": [
        {
          "output_type": "execute_result",
          "data": {
            "text/plain": [
              "                     Facility Name  Facility ID State            Measure Name  \\\n",
              "0  SOUTHEAST HEALTH MEDICAL CENTER        10001    AL  READM-30-HIP-KNEE-HRRP   \n",
              "1  SOUTHEAST HEALTH MEDICAL CENTER        10001    AL        READM-30-HF-HRRP   \n",
              "2  SOUTHEAST HEALTH MEDICAL CENTER        10001    AL       READM-30-AMI-HRRP   \n",
              "3  SOUTHEAST HEALTH MEDICAL CENTER        10001    AL        READM-30-PN-HRRP   \n",
              "4  SOUTHEAST HEALTH MEDICAL CENTER        10001    AL      READM-30-CABG-HRRP   \n",
              "\n",
              "   Number of Discharges  Footnote  Excess Readmission Ratio  \\\n",
              "0                   NaN       NaN                    0.8916   \n",
              "1                 616.0       NaN                    1.1003   \n",
              "2                 274.0       NaN                    0.9332   \n",
              "3                 404.0       NaN                    0.9871   \n",
              "4                 126.0       NaN                    0.9517   \n",
              "\n",
              "   Predicted Readmission Rate  Expected Readmission Rate  \\\n",
              "0                      3.5325                     3.9618   \n",
              "1                     23.1263                    21.0184   \n",
              "2                     12.9044                    13.8283   \n",
              "3                     17.0529                    17.2762   \n",
              "4                      9.8131                    10.3112   \n",
              "\n",
              "  Number of Readmissions  Start Date    End Date  \n",
              "0      Too Few to Report  07/01/2019  06/30/2022  \n",
              "1                    149  07/01/2019  06/30/2022  \n",
              "2                     32  07/01/2019  06/30/2022  \n",
              "3                     68  07/01/2019  06/30/2022  \n",
              "4                     11  07/01/2019  06/30/2022  "
            ],
            "text/html": [
              "\n",
              "  <div id=\"df-878ece34-c463-48c0-92d1-b9004847b552\" class=\"colab-df-container\">\n",
              "    <div>\n",
              "<style scoped>\n",
              "    .dataframe tbody tr th:only-of-type {\n",
              "        vertical-align: middle;\n",
              "    }\n",
              "\n",
              "    .dataframe tbody tr th {\n",
              "        vertical-align: top;\n",
              "    }\n",
              "\n",
              "    .dataframe thead th {\n",
              "        text-align: right;\n",
              "    }\n",
              "</style>\n",
              "<table border=\"1\" class=\"dataframe\">\n",
              "  <thead>\n",
              "    <tr style=\"text-align: right;\">\n",
              "      <th></th>\n",
              "      <th>Facility Name</th>\n",
              "      <th>Facility ID</th>\n",
              "      <th>State</th>\n",
              "      <th>Measure Name</th>\n",
              "      <th>Number of Discharges</th>\n",
              "      <th>Footnote</th>\n",
              "      <th>Excess Readmission Ratio</th>\n",
              "      <th>Predicted Readmission Rate</th>\n",
              "      <th>Expected Readmission Rate</th>\n",
              "      <th>Number of Readmissions</th>\n",
              "      <th>Start Date</th>\n",
              "      <th>End Date</th>\n",
              "    </tr>\n",
              "  </thead>\n",
              "  <tbody>\n",
              "    <tr>\n",
              "      <th>0</th>\n",
              "      <td>SOUTHEAST HEALTH MEDICAL CENTER</td>\n",
              "      <td>10001</td>\n",
              "      <td>AL</td>\n",
              "      <td>READM-30-HIP-KNEE-HRRP</td>\n",
              "      <td>NaN</td>\n",
              "      <td>NaN</td>\n",
              "      <td>0.8916</td>\n",
              "      <td>3.5325</td>\n",
              "      <td>3.9618</td>\n",
              "      <td>Too Few to Report</td>\n",
              "      <td>07/01/2019</td>\n",
              "      <td>06/30/2022</td>\n",
              "    </tr>\n",
              "    <tr>\n",
              "      <th>1</th>\n",
              "      <td>SOUTHEAST HEALTH MEDICAL CENTER</td>\n",
              "      <td>10001</td>\n",
              "      <td>AL</td>\n",
              "      <td>READM-30-HF-HRRP</td>\n",
              "      <td>616.0</td>\n",
              "      <td>NaN</td>\n",
              "      <td>1.1003</td>\n",
              "      <td>23.1263</td>\n",
              "      <td>21.0184</td>\n",
              "      <td>149</td>\n",
              "      <td>07/01/2019</td>\n",
              "      <td>06/30/2022</td>\n",
              "    </tr>\n",
              "    <tr>\n",
              "      <th>2</th>\n",
              "      <td>SOUTHEAST HEALTH MEDICAL CENTER</td>\n",
              "      <td>10001</td>\n",
              "      <td>AL</td>\n",
              "      <td>READM-30-AMI-HRRP</td>\n",
              "      <td>274.0</td>\n",
              "      <td>NaN</td>\n",
              "      <td>0.9332</td>\n",
              "      <td>12.9044</td>\n",
              "      <td>13.8283</td>\n",
              "      <td>32</td>\n",
              "      <td>07/01/2019</td>\n",
              "      <td>06/30/2022</td>\n",
              "    </tr>\n",
              "    <tr>\n",
              "      <th>3</th>\n",
              "      <td>SOUTHEAST HEALTH MEDICAL CENTER</td>\n",
              "      <td>10001</td>\n",
              "      <td>AL</td>\n",
              "      <td>READM-30-PN-HRRP</td>\n",
              "      <td>404.0</td>\n",
              "      <td>NaN</td>\n",
              "      <td>0.9871</td>\n",
              "      <td>17.0529</td>\n",
              "      <td>17.2762</td>\n",
              "      <td>68</td>\n",
              "      <td>07/01/2019</td>\n",
              "      <td>06/30/2022</td>\n",
              "    </tr>\n",
              "    <tr>\n",
              "      <th>4</th>\n",
              "      <td>SOUTHEAST HEALTH MEDICAL CENTER</td>\n",
              "      <td>10001</td>\n",
              "      <td>AL</td>\n",
              "      <td>READM-30-CABG-HRRP</td>\n",
              "      <td>126.0</td>\n",
              "      <td>NaN</td>\n",
              "      <td>0.9517</td>\n",
              "      <td>9.8131</td>\n",
              "      <td>10.3112</td>\n",
              "      <td>11</td>\n",
              "      <td>07/01/2019</td>\n",
              "      <td>06/30/2022</td>\n",
              "    </tr>\n",
              "  </tbody>\n",
              "</table>\n",
              "</div>\n",
              "    <div class=\"colab-df-buttons\">\n",
              "\n",
              "  <div class=\"colab-df-container\">\n",
              "    <button class=\"colab-df-convert\" onclick=\"convertToInteractive('df-878ece34-c463-48c0-92d1-b9004847b552')\"\n",
              "            title=\"Convert this dataframe to an interactive table.\"\n",
              "            style=\"display:none;\">\n",
              "\n",
              "  <svg xmlns=\"http://www.w3.org/2000/svg\" height=\"24px\" viewBox=\"0 -960 960 960\">\n",
              "    <path d=\"M120-120v-720h720v720H120Zm60-500h600v-160H180v160Zm220 220h160v-160H400v160Zm0 220h160v-160H400v160ZM180-400h160v-160H180v160Zm440 0h160v-160H620v160ZM180-180h160v-160H180v160Zm440 0h160v-160H620v160Z\"/>\n",
              "  </svg>\n",
              "    </button>\n",
              "\n",
              "  <style>\n",
              "    .colab-df-container {\n",
              "      display:flex;\n",
              "      gap: 12px;\n",
              "    }\n",
              "\n",
              "    .colab-df-convert {\n",
              "      background-color: #E8F0FE;\n",
              "      border: none;\n",
              "      border-radius: 50%;\n",
              "      cursor: pointer;\n",
              "      display: none;\n",
              "      fill: #1967D2;\n",
              "      height: 32px;\n",
              "      padding: 0 0 0 0;\n",
              "      width: 32px;\n",
              "    }\n",
              "\n",
              "    .colab-df-convert:hover {\n",
              "      background-color: #E2EBFA;\n",
              "      box-shadow: 0px 1px 2px rgba(60, 64, 67, 0.3), 0px 1px 3px 1px rgba(60, 64, 67, 0.15);\n",
              "      fill: #174EA6;\n",
              "    }\n",
              "\n",
              "    .colab-df-buttons div {\n",
              "      margin-bottom: 4px;\n",
              "    }\n",
              "\n",
              "    [theme=dark] .colab-df-convert {\n",
              "      background-color: #3B4455;\n",
              "      fill: #D2E3FC;\n",
              "    }\n",
              "\n",
              "    [theme=dark] .colab-df-convert:hover {\n",
              "      background-color: #434B5C;\n",
              "      box-shadow: 0px 1px 3px 1px rgba(0, 0, 0, 0.15);\n",
              "      filter: drop-shadow(0px 1px 2px rgba(0, 0, 0, 0.3));\n",
              "      fill: #FFFFFF;\n",
              "    }\n",
              "  </style>\n",
              "\n",
              "    <script>\n",
              "      const buttonEl =\n",
              "        document.querySelector('#df-878ece34-c463-48c0-92d1-b9004847b552 button.colab-df-convert');\n",
              "      buttonEl.style.display =\n",
              "        google.colab.kernel.accessAllowed ? 'block' : 'none';\n",
              "\n",
              "      async function convertToInteractive(key) {\n",
              "        const element = document.querySelector('#df-878ece34-c463-48c0-92d1-b9004847b552');\n",
              "        const dataTable =\n",
              "          await google.colab.kernel.invokeFunction('convertToInteractive',\n",
              "                                                    [key], {});\n",
              "        if (!dataTable) return;\n",
              "\n",
              "        const docLinkHtml = 'Like what you see? Visit the ' +\n",
              "          '<a target=\"_blank\" href=https://colab.research.google.com/notebooks/data_table.ipynb>data table notebook</a>'\n",
              "          + ' to learn more about interactive tables.';\n",
              "        element.innerHTML = '';\n",
              "        dataTable['output_type'] = 'display_data';\n",
              "        await google.colab.output.renderOutput(dataTable, element);\n",
              "        const docLink = document.createElement('div');\n",
              "        docLink.innerHTML = docLinkHtml;\n",
              "        element.appendChild(docLink);\n",
              "      }\n",
              "    </script>\n",
              "  </div>\n",
              "\n",
              "\n",
              "<div id=\"df-ed5ff496-2a8a-4dd1-9efd-029da04562e0\">\n",
              "  <button class=\"colab-df-quickchart\" onclick=\"quickchart('df-ed5ff496-2a8a-4dd1-9efd-029da04562e0')\"\n",
              "            title=\"Suggest charts\"\n",
              "            style=\"display:none;\">\n",
              "\n",
              "<svg xmlns=\"http://www.w3.org/2000/svg\" height=\"24px\"viewBox=\"0 0 24 24\"\n",
              "     width=\"24px\">\n",
              "    <g>\n",
              "        <path d=\"M19 3H5c-1.1 0-2 .9-2 2v14c0 1.1.9 2 2 2h14c1.1 0 2-.9 2-2V5c0-1.1-.9-2-2-2zM9 17H7v-7h2v7zm4 0h-2V7h2v10zm4 0h-2v-4h2v4z\"/>\n",
              "    </g>\n",
              "</svg>\n",
              "  </button>\n",
              "\n",
              "<style>\n",
              "  .colab-df-quickchart {\n",
              "      --bg-color: #E8F0FE;\n",
              "      --fill-color: #1967D2;\n",
              "      --hover-bg-color: #E2EBFA;\n",
              "      --hover-fill-color: #174EA6;\n",
              "      --disabled-fill-color: #AAA;\n",
              "      --disabled-bg-color: #DDD;\n",
              "  }\n",
              "\n",
              "  [theme=dark] .colab-df-quickchart {\n",
              "      --bg-color: #3B4455;\n",
              "      --fill-color: #D2E3FC;\n",
              "      --hover-bg-color: #434B5C;\n",
              "      --hover-fill-color: #FFFFFF;\n",
              "      --disabled-bg-color: #3B4455;\n",
              "      --disabled-fill-color: #666;\n",
              "  }\n",
              "\n",
              "  .colab-df-quickchart {\n",
              "    background-color: var(--bg-color);\n",
              "    border: none;\n",
              "    border-radius: 50%;\n",
              "    cursor: pointer;\n",
              "    display: none;\n",
              "    fill: var(--fill-color);\n",
              "    height: 32px;\n",
              "    padding: 0;\n",
              "    width: 32px;\n",
              "  }\n",
              "\n",
              "  .colab-df-quickchart:hover {\n",
              "    background-color: var(--hover-bg-color);\n",
              "    box-shadow: 0 1px 2px rgba(60, 64, 67, 0.3), 0 1px 3px 1px rgba(60, 64, 67, 0.15);\n",
              "    fill: var(--button-hover-fill-color);\n",
              "  }\n",
              "\n",
              "  .colab-df-quickchart-complete:disabled,\n",
              "  .colab-df-quickchart-complete:disabled:hover {\n",
              "    background-color: var(--disabled-bg-color);\n",
              "    fill: var(--disabled-fill-color);\n",
              "    box-shadow: none;\n",
              "  }\n",
              "\n",
              "  .colab-df-spinner {\n",
              "    border: 2px solid var(--fill-color);\n",
              "    border-color: transparent;\n",
              "    border-bottom-color: var(--fill-color);\n",
              "    animation:\n",
              "      spin 1s steps(1) infinite;\n",
              "  }\n",
              "\n",
              "  @keyframes spin {\n",
              "    0% {\n",
              "      border-color: transparent;\n",
              "      border-bottom-color: var(--fill-color);\n",
              "      border-left-color: var(--fill-color);\n",
              "    }\n",
              "    20% {\n",
              "      border-color: transparent;\n",
              "      border-left-color: var(--fill-color);\n",
              "      border-top-color: var(--fill-color);\n",
              "    }\n",
              "    30% {\n",
              "      border-color: transparent;\n",
              "      border-left-color: var(--fill-color);\n",
              "      border-top-color: var(--fill-color);\n",
              "      border-right-color: var(--fill-color);\n",
              "    }\n",
              "    40% {\n",
              "      border-color: transparent;\n",
              "      border-right-color: var(--fill-color);\n",
              "      border-top-color: var(--fill-color);\n",
              "    }\n",
              "    60% {\n",
              "      border-color: transparent;\n",
              "      border-right-color: var(--fill-color);\n",
              "    }\n",
              "    80% {\n",
              "      border-color: transparent;\n",
              "      border-right-color: var(--fill-color);\n",
              "      border-bottom-color: var(--fill-color);\n",
              "    }\n",
              "    90% {\n",
              "      border-color: transparent;\n",
              "      border-bottom-color: var(--fill-color);\n",
              "    }\n",
              "  }\n",
              "</style>\n",
              "\n",
              "  <script>\n",
              "    async function quickchart(key) {\n",
              "      const quickchartButtonEl =\n",
              "        document.querySelector('#' + key + ' button');\n",
              "      quickchartButtonEl.disabled = true;  // To prevent multiple clicks.\n",
              "      quickchartButtonEl.classList.add('colab-df-spinner');\n",
              "      try {\n",
              "        const charts = await google.colab.kernel.invokeFunction(\n",
              "            'suggestCharts', [key], {});\n",
              "      } catch (error) {\n",
              "        console.error('Error during call to suggestCharts:', error);\n",
              "      }\n",
              "      quickchartButtonEl.classList.remove('colab-df-spinner');\n",
              "      quickchartButtonEl.classList.add('colab-df-quickchart-complete');\n",
              "    }\n",
              "    (() => {\n",
              "      let quickchartButtonEl =\n",
              "        document.querySelector('#df-ed5ff496-2a8a-4dd1-9efd-029da04562e0 button');\n",
              "      quickchartButtonEl.style.display =\n",
              "        google.colab.kernel.accessAllowed ? 'block' : 'none';\n",
              "    })();\n",
              "  </script>\n",
              "</div>\n",
              "\n",
              "    </div>\n",
              "  </div>\n"
            ],
            "application/vnd.google.colaboratory.intrinsic+json": {
              "type": "dataframe",
              "variable_name": "df",
              "summary": "{\n  \"name\": \"df\",\n  \"rows\": 18774,\n  \"fields\": [\n    {\n      \"column\": \"Facility Name\",\n      \"properties\": {\n        \"dtype\": \"category\",\n        \"num_unique_values\": 3058,\n        \"samples\": [\n          \"SOUTHERN OCEAN MEDICAL CENTER\",\n          \"ADVENTIST HEALTH ST HELENA\",\n          \"BAYSTATE MEDICAL CENTER\"\n        ],\n        \"semantic_type\": \"\",\n        \"description\": \"\"\n      }\n    },\n    {\n      \"column\": \"Facility ID\",\n      \"properties\": {\n        \"dtype\": \"number\",\n        \"std\": 163743,\n        \"min\": 10001,\n        \"max\": 670319,\n        \"num_unique_values\": 3129,\n        \"samples\": [\n          450747,\n          450102,\n          40067\n        ],\n        \"semantic_type\": \"\",\n        \"description\": \"\"\n      }\n    },\n    {\n      \"column\": \"State\",\n      \"properties\": {\n        \"dtype\": \"category\",\n        \"num_unique_values\": 51,\n        \"samples\": [\n          \"TX\",\n          \"SC\",\n          \"VA\"\n        ],\n        \"semantic_type\": \"\",\n        \"description\": \"\"\n      }\n    },\n    {\n      \"column\": \"Measure Name\",\n      \"properties\": {\n        \"dtype\": \"category\",\n        \"num_unique_values\": 6,\n        \"samples\": [\n          \"READM-30-HIP-KNEE-HRRP\",\n          \"READM-30-HF-HRRP\",\n          \"READM-30-COPD-HRRP\"\n        ],\n        \"semantic_type\": \"\",\n        \"description\": \"\"\n      }\n    },\n    {\n      \"column\": \"Number of Discharges\",\n      \"properties\": {\n        \"dtype\": \"number\",\n        \"std\": 227.6486595369445,\n        \"min\": 0.0,\n        \"max\": 4994.0,\n        \"num_unique_values\": 904,\n        \"samples\": [\n          96.0,\n          39.0,\n          545.0\n        ],\n        \"semantic_type\": \"\",\n        \"description\": \"\"\n      }\n    },\n    {\n      \"column\": \"Footnote\",\n      \"properties\": {\n        \"dtype\": \"number\",\n        \"std\": 2.084348538252197,\n        \"min\": 1.0,\n        \"max\": 7.0,\n        \"num_unique_values\": 3,\n        \"samples\": [\n          1.0,\n          5.0,\n          7.0\n        ],\n        \"semantic_type\": \"\",\n        \"description\": \"\"\n      }\n    },\n    {\n      \"column\": \"Excess Readmission Ratio\",\n      \"properties\": {\n        \"dtype\": \"number\",\n        \"std\": 0.07701754905733034,\n        \"min\": 0.6159,\n        \"max\": 1.5162,\n        \"num_unique_values\": 3243,\n        \"samples\": [\n          1.1306,\n          0.7761,\n          0.8913\n        ],\n        \"semantic_type\": \"\",\n        \"description\": \"\"\n      }\n    },\n    {\n      \"column\": \"Predicted Readmission Rate\",\n      \"properties\": {\n        \"dtype\": \"number\",\n        \"std\": 5.480390631724015,\n        \"min\": 1.9279,\n        \"max\": 28.1472,\n        \"num_unique_values\": 11610,\n        \"samples\": [\n          16.7759,\n          9.2878,\n          16.8517\n        ],\n        \"semantic_type\": \"\",\n        \"description\": \"\"\n      }\n    },\n    {\n      \"column\": \"Expected Readmission Rate\",\n      \"properties\": {\n        \"dtype\": \"number\",\n        \"std\": 5.354169601783993,\n        \"min\": 2.6749,\n        \"max\": 26.2684,\n        \"num_unique_values\": 11591,\n        \"samples\": [\n          19.1752,\n          20.1311,\n          16.8506\n        ],\n        \"semantic_type\": \"\",\n        \"description\": \"\"\n      }\n    },\n    {\n      \"column\": \"Number of Readmissions\",\n      \"properties\": {\n        \"dtype\": \"category\",\n        \"num_unique_values\": 245,\n        \"samples\": [\n          \"46\",\n          \"14\",\n          \"117\"\n        ],\n        \"semantic_type\": \"\",\n        \"description\": \"\"\n      }\n    },\n    {\n      \"column\": \"Start Date\",\n      \"properties\": {\n        \"dtype\": \"object\",\n        \"num_unique_values\": 1,\n        \"samples\": [\n          \"07/01/2019\"\n        ],\n        \"semantic_type\": \"\",\n        \"description\": \"\"\n      }\n    },\n    {\n      \"column\": \"End Date\",\n      \"properties\": {\n        \"dtype\": \"object\",\n        \"num_unique_values\": 1,\n        \"samples\": [\n          \"06/30/2022\"\n        ],\n        \"semantic_type\": \"\",\n        \"description\": \"\"\n      }\n    }\n  ]\n}"
            }
          },
          "metadata": {},
          "execution_count": 13
        }
      ]
    },
    {
      "cell_type": "code",
      "source": [
        "# Check dataset structure, column names, and data types\n",
        "df.info()\n",
        "\n",
        "# Check missing values in each column\n",
        "df.isnull().sum()\n"
      ],
      "metadata": {
        "colab": {
          "base_uri": "https://localhost:8080/",
          "height": 800
        },
        "id": "_MpR1YuO4fnD",
        "outputId": "029f9c49-2393-4986-aa76-1a88b960e066"
      },
      "execution_count": 14,
      "outputs": [
        {
          "output_type": "stream",
          "name": "stdout",
          "text": [
            "<class 'pandas.core.frame.DataFrame'>\n",
            "RangeIndex: 18774 entries, 0 to 18773\n",
            "Data columns (total 12 columns):\n",
            " #   Column                      Non-Null Count  Dtype  \n",
            "---  ------                      --------------  -----  \n",
            " 0   Facility Name               18774 non-null  object \n",
            " 1   Facility ID                 18774 non-null  int64  \n",
            " 2   State                       18774 non-null  object \n",
            " 3   Measure Name                18774 non-null  object \n",
            " 4   Number of Discharges        8094 non-null   float64\n",
            " 5   Footnote                    6697 non-null   float64\n",
            " 6   Excess Readmission Ratio    12077 non-null  float64\n",
            " 7   Predicted Readmission Rate  12077 non-null  float64\n",
            " 8   Expected Readmission Rate   12077 non-null  float64\n",
            " 9   Number of Readmissions      12077 non-null  object \n",
            " 10  Start Date                  18774 non-null  object \n",
            " 11  End Date                    18774 non-null  object \n",
            "dtypes: float64(5), int64(1), object(6)\n",
            "memory usage: 1.7+ MB\n"
          ]
        },
        {
          "output_type": "execute_result",
          "data": {
            "text/plain": [
              "Facility Name                     0\n",
              "Facility ID                       0\n",
              "State                             0\n",
              "Measure Name                      0\n",
              "Number of Discharges          10680\n",
              "Footnote                      12077\n",
              "Excess Readmission Ratio       6697\n",
              "Predicted Readmission Rate     6697\n",
              "Expected Readmission Rate      6697\n",
              "Number of Readmissions         6697\n",
              "Start Date                        0\n",
              "End Date                          0\n",
              "dtype: int64"
            ],
            "text/html": [
              "<div>\n",
              "<style scoped>\n",
              "    .dataframe tbody tr th:only-of-type {\n",
              "        vertical-align: middle;\n",
              "    }\n",
              "\n",
              "    .dataframe tbody tr th {\n",
              "        vertical-align: top;\n",
              "    }\n",
              "\n",
              "    .dataframe thead th {\n",
              "        text-align: right;\n",
              "    }\n",
              "</style>\n",
              "<table border=\"1\" class=\"dataframe\">\n",
              "  <thead>\n",
              "    <tr style=\"text-align: right;\">\n",
              "      <th></th>\n",
              "      <th>0</th>\n",
              "    </tr>\n",
              "  </thead>\n",
              "  <tbody>\n",
              "    <tr>\n",
              "      <th>Facility Name</th>\n",
              "      <td>0</td>\n",
              "    </tr>\n",
              "    <tr>\n",
              "      <th>Facility ID</th>\n",
              "      <td>0</td>\n",
              "    </tr>\n",
              "    <tr>\n",
              "      <th>State</th>\n",
              "      <td>0</td>\n",
              "    </tr>\n",
              "    <tr>\n",
              "      <th>Measure Name</th>\n",
              "      <td>0</td>\n",
              "    </tr>\n",
              "    <tr>\n",
              "      <th>Number of Discharges</th>\n",
              "      <td>10680</td>\n",
              "    </tr>\n",
              "    <tr>\n",
              "      <th>Footnote</th>\n",
              "      <td>12077</td>\n",
              "    </tr>\n",
              "    <tr>\n",
              "      <th>Excess Readmission Ratio</th>\n",
              "      <td>6697</td>\n",
              "    </tr>\n",
              "    <tr>\n",
              "      <th>Predicted Readmission Rate</th>\n",
              "      <td>6697</td>\n",
              "    </tr>\n",
              "    <tr>\n",
              "      <th>Expected Readmission Rate</th>\n",
              "      <td>6697</td>\n",
              "    </tr>\n",
              "    <tr>\n",
              "      <th>Number of Readmissions</th>\n",
              "      <td>6697</td>\n",
              "    </tr>\n",
              "    <tr>\n",
              "      <th>Start Date</th>\n",
              "      <td>0</td>\n",
              "    </tr>\n",
              "    <tr>\n",
              "      <th>End Date</th>\n",
              "      <td>0</td>\n",
              "    </tr>\n",
              "  </tbody>\n",
              "</table>\n",
              "</div><br><label><b>dtype:</b> int64</label>"
            ]
          },
          "metadata": {},
          "execution_count": 14
        }
      ]
    },
    {
      "cell_type": "code",
      "source": [
        "from sklearn.impute import KNNImputer\n",
        "import numpy as np\n",
        "\n",
        "# Drop 'Footnote' since it's mostly missing\n",
        "df.drop(columns=['Footnote'], inplace=True)\n",
        "\n",
        "# Convert 'Number of Readmissions' to numeric, replacing \"Too Few to Report\" with NaN\n",
        "df['Number of Readmissions'] = pd.to_numeric(df['Number of Readmissions'], errors='coerce')\n",
        "\n",
        "# Apply KNN Imputation for missing values (better than mean/median fill)\n",
        "imputer = KNNImputer(n_neighbors=5)\n",
        "num_cols = ['Number of Discharges', 'Excess Readmission Ratio', 'Predicted Readmission Rate',\n",
        "            'Expected Readmission Rate', 'Number of Readmissions']\n",
        "\n",
        "df[num_cols] = imputer.fit_transform(df[num_cols])\n",
        "\n",
        "# Drop rows where 'Excess Readmission Ratio' is still missing (target variable)\n",
        "df.dropna(subset=['Excess Readmission Ratio'], inplace=True)\n",
        "\n",
        "# Convert 'Start Date' & 'End Date' into separate Year and Month columns\n",
        "df['Start Year'] = pd.to_datetime(df['Start Date']).dt.year\n",
        "df['End Year'] = pd.to_datetime(df['End Date']).dt.year\n",
        "\n",
        "# Drop original date columns\n",
        "df.drop(columns=['Start Date', 'End Date'], inplace=True)\n",
        "\n",
        "# Check if all missing values are handled\n",
        "print(\"Missing values after cleaning:\")\n",
        "print(df.isnull().sum())\n"
      ],
      "metadata": {
        "colab": {
          "base_uri": "https://localhost:8080/"
        },
        "id": "5MZTV3Xh4ypi",
        "outputId": "9cbfc9b5-2756-491e-8f3d-ec826d44cfe4"
      },
      "execution_count": 15,
      "outputs": [
        {
          "output_type": "stream",
          "name": "stdout",
          "text": [
            "Missing values after cleaning:\n",
            "Facility Name                 0\n",
            "Facility ID                   0\n",
            "State                         0\n",
            "Measure Name                  0\n",
            "Number of Discharges          0\n",
            "Excess Readmission Ratio      0\n",
            "Predicted Readmission Rate    0\n",
            "Expected Readmission Rate     0\n",
            "Number of Readmissions        0\n",
            "Start Year                    0\n",
            "End Year                      0\n",
            "dtype: int64\n"
          ]
        }
      ]
    },
    {
      "cell_type": "code",
      "source": [
        "!pip install category-encoders\n"
      ],
      "metadata": {
        "colab": {
          "base_uri": "https://localhost:8080/"
        },
        "id": "0vL8IeJ85FJq",
        "outputId": "88734f35-72cd-4f55-c6c7-deac599639c3"
      },
      "execution_count": 17,
      "outputs": [
        {
          "output_type": "stream",
          "name": "stdout",
          "text": [
            "Collecting category-encoders\n",
            "  Downloading category_encoders-2.8.0-py3-none-any.whl.metadata (7.9 kB)\n",
            "Requirement already satisfied: numpy>=1.14.0 in /usr/local/lib/python3.11/dist-packages (from category-encoders) (1.26.4)\n",
            "Requirement already satisfied: pandas>=1.0.5 in /usr/local/lib/python3.11/dist-packages (from category-encoders) (2.2.2)\n",
            "Requirement already satisfied: patsy>=0.5.1 in /usr/local/lib/python3.11/dist-packages (from category-encoders) (1.0.1)\n",
            "Requirement already satisfied: scikit-learn>=1.6.0 in /usr/local/lib/python3.11/dist-packages (from category-encoders) (1.6.1)\n",
            "Requirement already satisfied: scipy>=1.0.0 in /usr/local/lib/python3.11/dist-packages (from category-encoders) (1.13.1)\n",
            "Requirement already satisfied: statsmodels>=0.9.0 in /usr/local/lib/python3.11/dist-packages (from category-encoders) (0.14.4)\n",
            "Requirement already satisfied: python-dateutil>=2.8.2 in /usr/local/lib/python3.11/dist-packages (from pandas>=1.0.5->category-encoders) (2.8.2)\n",
            "Requirement already satisfied: pytz>=2020.1 in /usr/local/lib/python3.11/dist-packages (from pandas>=1.0.5->category-encoders) (2025.1)\n",
            "Requirement already satisfied: tzdata>=2022.7 in /usr/local/lib/python3.11/dist-packages (from pandas>=1.0.5->category-encoders) (2025.1)\n",
            "Requirement already satisfied: joblib>=1.2.0 in /usr/local/lib/python3.11/dist-packages (from scikit-learn>=1.6.0->category-encoders) (1.4.2)\n",
            "Requirement already satisfied: threadpoolctl>=3.1.0 in /usr/local/lib/python3.11/dist-packages (from scikit-learn>=1.6.0->category-encoders) (3.5.0)\n",
            "Requirement already satisfied: packaging>=21.3 in /usr/local/lib/python3.11/dist-packages (from statsmodels>=0.9.0->category-encoders) (24.2)\n",
            "Requirement already satisfied: six>=1.5 in /usr/local/lib/python3.11/dist-packages (from python-dateutil>=2.8.2->pandas>=1.0.5->category-encoders) (1.17.0)\n",
            "Downloading category_encoders-2.8.0-py3-none-any.whl (85 kB)\n",
            "\u001b[2K   \u001b[90m━━━━━━━━━━━━━━━━━━━━━━━━━━━━━━━━━━━━━━━━\u001b[0m \u001b[32m85.7/85.7 kB\u001b[0m \u001b[31m7.1 MB/s\u001b[0m eta \u001b[36m0:00:00\u001b[0m\n",
            "\u001b[?25hInstalling collected packages: category-encoders\n",
            "Successfully installed category-encoders-2.8.0\n"
          ]
        }
      ]
    },
    {
      "cell_type": "code",
      "source": [
        "from sklearn.preprocessing import LabelEncoder\n",
        "import category_encoders as ce  # For Target Encoding\n",
        "\n",
        "# Apply Target Encoding for 'Facility Name' (Large number of categories)\n",
        "target_enc = ce.TargetEncoder(cols=['Facility Name'])\n",
        "df['Facility_Name_Enc'] = target_enc.fit_transform(df['Facility Name'], df['Excess Readmission Ratio'])\n",
        "\n",
        "# Apply Label Encoding for 'State' (Convert to numerical categories)\n",
        "le = LabelEncoder()\n",
        "df['State_Enc'] = le.fit_transform(df['State'])\n",
        "\n",
        "# Apply One-Hot Encoding for 'Measure Name'\n",
        "df = pd.get_dummies(df, columns=['Measure Name'], drop_first=True)\n",
        "\n",
        "# Drop original categorical columns\n",
        "df.drop(columns=['Facility Name', 'State'], inplace=True)\n",
        "\n",
        "# Show dataset after encoding\n",
        "print(\"Updated dataset after encoding:\")\n",
        "print(df.head())\n"
      ],
      "metadata": {
        "colab": {
          "base_uri": "https://localhost:8080/"
        },
        "id": "F6ZwiniC5TbK",
        "outputId": "7ad241b9-124d-4d2b-a35e-8d32d199d2b6"
      },
      "execution_count": 18,
      "outputs": [
        {
          "output_type": "stream",
          "name": "stdout",
          "text": [
            "Updated dataset after encoding:\n",
            "   Facility ID  Number of Discharges  Excess Readmission Ratio  \\\n",
            "0        10001                 568.8                    0.8916   \n",
            "1        10001                 616.0                    1.1003   \n",
            "2        10001                 274.0                    0.9332   \n",
            "3        10001                 404.0                    0.9871   \n",
            "4        10001                 126.0                    0.9517   \n",
            "\n",
            "   Predicted Readmission Rate  Expected Readmission Rate  \\\n",
            "0                      3.5325                     3.9618   \n",
            "1                     23.1263                    21.0184   \n",
            "2                     12.9044                    13.8283   \n",
            "3                     17.0529                    17.2762   \n",
            "4                      9.8131                    10.3112   \n",
            "\n",
            "   Number of Readmissions  Start Year  End Year  Facility_Name_Enc  State_Enc  \\\n",
            "0                    18.8        2019      2022           0.996783          1   \n",
            "1                   149.0        2019      2022           0.996783          1   \n",
            "2                    32.0        2019      2022           0.996783          1   \n",
            "3                    68.0        2019      2022           0.996783          1   \n",
            "4                    11.0        2019      2022           0.996783          1   \n",
            "\n",
            "   Measure Name_READM-30-CABG-HRRP  Measure Name_READM-30-COPD-HRRP  \\\n",
            "0                            False                            False   \n",
            "1                            False                            False   \n",
            "2                            False                            False   \n",
            "3                            False                            False   \n",
            "4                             True                            False   \n",
            "\n",
            "   Measure Name_READM-30-HF-HRRP  Measure Name_READM-30-HIP-KNEE-HRRP  \\\n",
            "0                          False                                 True   \n",
            "1                           True                                False   \n",
            "2                          False                                False   \n",
            "3                          False                                False   \n",
            "4                          False                                False   \n",
            "\n",
            "   Measure Name_READM-30-PN-HRRP  \n",
            "0                          False  \n",
            "1                          False  \n",
            "2                          False  \n",
            "3                           True  \n",
            "4                          False  \n"
          ]
        }
      ]
    },
    {
      "cell_type": "code",
      "source": [
        "from sklearn.model_selection import train_test_split\n",
        "from sklearn.preprocessing import StandardScaler\n",
        "\n",
        "# Define the target variable (what we want to predict)\n",
        "target_column = 'Excess Readmission Ratio'\n",
        "X = df.drop(columns=[target_column])  # Features (independent variables)\n",
        "y = df[target_column]  # Target (dependent variable)\n",
        "\n",
        "# Split the data into training (80%) and test (20%) sets\n",
        "X_train, X_test, y_train, y_test = train_test_split(X, y, test_size=0.2, random_state=42)\n",
        "\n",
        "# Standardize (normalize) the numerical features\n",
        "scaler = StandardScaler()\n",
        "X_train = scaler.fit_transform(X_train)\n",
        "X_test = scaler.transform(X_test)\n",
        "\n",
        "# Check the shapes of the training and test sets\n",
        "print(\"Training Features Shape:\", X_train.shape)\n",
        "print(\"Test Features Shape:\", X_test.shape)\n"
      ],
      "metadata": {
        "colab": {
          "base_uri": "https://localhost:8080/"
        },
        "id": "svv04Ilp5e_U",
        "outputId": "7fea8528-7d68-48fd-8bce-522bf124d3f8"
      },
      "execution_count": 19,
      "outputs": [
        {
          "output_type": "stream",
          "name": "stdout",
          "text": [
            "Training Features Shape: (15019, 14)\n",
            "Test Features Shape: (3755, 14)\n"
          ]
        }
      ]
    },
    {
      "cell_type": "code",
      "source": [
        "from sklearn.linear_model import LinearRegression, Ridge, Lasso\n",
        "from xgboost import XGBRegressor\n",
        "from sklearn.metrics import mean_squared_error, r2_score\n",
        "import tensorflow as tf\n",
        "from tensorflow.keras import layers\n",
        "\n",
        "# Train Linear Regression\n",
        "lr = LinearRegression()\n",
        "lr.fit(X_train, y_train)\n",
        "y_pred_lr = lr.predict(X_test)\n",
        "\n",
        "# Train Ridge Regression (L2 Regularization)\n",
        "ridge = Ridge(alpha=1.0)\n",
        "ridge.fit(X_train, y_train)\n",
        "y_pred_ridge = ridge.predict(X_test)\n",
        "\n",
        "# Train Lasso Regression (L1 Regularization)\n",
        "lasso = Lasso(alpha=0.1)\n",
        "lasso.fit(X_train, y_train)\n",
        "y_pred_lasso = lasso.predict(X_test)\n",
        "\n",
        "# Train XGBoost Regression\n",
        "xgb = XGBRegressor(objective=\"reg:squarederror\", n_estimators=200, learning_rate=0.05)\n",
        "xgb.fit(X_train, y_train)\n",
        "y_pred_xgb = xgb.predict(X_test)\n",
        "\n",
        "# Train a Neural Network\n",
        "nn_model = tf.keras.Sequential([\n",
        "    layers.Dense(64, activation=\"relu\"),\n",
        "    layers.Dense(32, activation=\"relu\"),\n",
        "    layers.Dense(1)  # Output layer\n",
        "])\n",
        "nn_model.compile(optimizer=\"adam\", loss=\"mse\", metrics=[\"mae\"])\n",
        "nn_model.fit(X_train, y_train, epochs=50, batch_size=16, verbose=0)\n",
        "y_pred_nn = nn_model.predict(X_test).flatten()\n",
        "\n",
        "# Function to evaluate models\n",
        "def evaluate_model(model_name, y_true, y_pred):\n",
        "    mse = mean_squared_error(y_true, y_pred)\n",
        "    r2 = r2_score(y_true, y_pred)\n",
        "    print(f\"\\nModel: {model_name}\")\n",
        "    print(f\"Mean Squared Error (MSE): {mse:.5f}\")\n",
        "    print(f\"R-Squared Score (R²): {r2:.5f}\")\n",
        "\n",
        "# Evaluate all models\n",
        "evaluate_model(\"Linear Regression\", y_test, y_pred_lr)\n",
        "evaluate_model(\"Ridge Regression\", y_test, y_pred_ridge)\n",
        "evaluate_model(\"Lasso Regression\", y_test, y_pred_lasso)\n",
        "evaluate_model(\"XGBoost Regressor\", y_test, y_pred_xgb)\n",
        "evaluate_model(\"Neural Network\", y_test, y_pred_nn)\n"
      ],
      "metadata": {
        "colab": {
          "base_uri": "https://localhost:8080/"
        },
        "id": "49eqyTIZ5rv8",
        "outputId": "4bc4fc3d-8ec6-4c11-d9e6-bba6b5b74837"
      },
      "execution_count": 20,
      "outputs": [
        {
          "output_type": "stream",
          "name": "stdout",
          "text": [
            "\u001b[1m118/118\u001b[0m \u001b[32m━━━━━━━━━━━━━━━━━━━━\u001b[0m\u001b[37m\u001b[0m \u001b[1m0s\u001b[0m 1ms/step  \n",
            "\n",
            "Model: Linear Regression\n",
            "Mean Squared Error (MSE): 0.00067\n",
            "R-Squared Score (R²): 0.82051\n",
            "\n",
            "Model: Ridge Regression\n",
            "Mean Squared Error (MSE): 0.00067\n",
            "R-Squared Score (R²): 0.82060\n",
            "\n",
            "Model: Lasso Regression\n",
            "Mean Squared Error (MSE): 0.00372\n",
            "R-Squared Score (R²): -0.00051\n",
            "\n",
            "Model: XGBoost Regressor\n",
            "Mean Squared Error (MSE): 0.00018\n",
            "R-Squared Score (R²): 0.95219\n",
            "\n",
            "Model: Neural Network\n",
            "Mean Squared Error (MSE): 0.00009\n",
            "R-Squared Score (R²): 0.97474\n"
          ]
        }
      ]
    },
    {
      "cell_type": "code",
      "source": [
        "import shap\n",
        "\n",
        "# Explain the XGBoost model\n",
        "explainer = shap.Explainer(xgb)\n",
        "shap_values = explainer(X_test)\n",
        "\n",
        "# Summary plot to show feature importance\n",
        "shap.summary_plot(shap_values, X_test)\n"
      ],
      "metadata": {
        "colab": {
          "base_uri": "https://localhost:8080/",
          "height": 717
        },
        "id": "S-mpvGva6UFM",
        "outputId": "98bbe61d-6e94-4b96-c71d-86369978c086"
      },
      "execution_count": 21,
      "outputs": [
        {
          "output_type": "display_data",
          "data": {
            "text/plain": [
              "<Figure size 800x710 with 2 Axes>"
            ],
            "image/png": "[encoded data removed]"
          },
          "metadata": {}
        }
      ]
    },
    {
      "cell_type": "code",
      "source": [
        "import joblib\n",
        "\n",
        "# Save the cleaned dataset\n",
        "df.to_csv('cleaned_hospital_readmissions.csv', index=False)\n",
        "\n",
        "# Save the XGBoost model\n",
        "joblib.dump(xgb, 'xgboost_model.pkl')\n",
        "\n",
        "# Save the Neural Network model\n",
        "nn_model.save('neural_network_model.h5')\n",
        "\n",
        "print(\"Dataset and models saved successfully!\")\n"
      ],
      "metadata": {
        "colab": {
          "base_uri": "https://localhost:8080/"
        },
        "id": "WiduPsJH6iaX",
        "outputId": "dccfd09d-517e-469c-8cb2-b7375cb5af4a"
      },
      "execution_count": 22,
      "outputs": [
        {
          "output_type": "stream",
          "name": "stderr",
          "text": [
            "WARNING:absl:You are saving your model as an HDF5 file via `model.save()` or `keras.saving.save_model(model)`. This file format is considered legacy. We recommend using instead the native Keras format, e.g. `model.save('my_model.keras')` or `keras.saving.save_model(model, 'my_model.keras')`. \n"
          ]
        },
        {
          "output_type": "stream",
          "name": "stdout",
          "text": [
            "Dataset and models saved successfully!\n"
          ]
        }
      ]
    },
    {
      "cell_type": "code",
      "source": [
        "# Saving the Neural Network in Keras format\n",
        "nn_model.save('neural_network_model.keras')\n",
        "print(\"Neural Network model saved in Keras format!\")\n"
      ],
      "metadata": {
        "colab": {
          "base_uri": "https://localhost:8080/"
        },
        "id": "rLSkojrL7Iy6",
        "outputId": "bebf8359-d03c-4cd8-e0e9-7437110b999b"
      },
      "execution_count": 23,
      "outputs": [
        {
          "output_type": "stream",
          "name": "stdout",
          "text": [
            "Neural Network model saved in Keras format!\n"
          ]
        }
      ]
    },
    {
      "cell_type": "code",
      "source": [
        "import os\n",
        "\n",
        "# Create folders for GitHub structure\n",
        "os.makedirs('Hospital-Readmission-Prediction/data', exist_ok=True)\n",
        "os.makedirs('Hospital-Readmission-Prediction/models', exist_ok=True)\n",
        "os.makedirs('Hospital-Readmission-Prediction/notebooks', exist_ok=True)\n",
        "\n",
        "# Move files into the appropriate folders\n",
        "!mv cleaned_hospital_readmissions.csv Hospital-Readmission-Prediction/data/\n",
        "!mv xgboost_model.pkl Hospital-Readmission-Prediction/models/\n",
        "!mv neural_network_model.h5 Hospital-Readmission-Prediction/models/\n"
      ],
      "metadata": {
        "id": "pg1n-x967OR5"
      },
      "execution_count": 24,
      "outputs": []
    },
    {
      "cell_type": "code",
      "source": [
        "# Generate dependencies file\n",
        "!pip freeze > Hospital-Readmission-Prediction/requirements.txt\n"
      ],
      "metadata": {
        "id": "QLFRQDJC7XS9"
      },
      "execution_count": 25,
      "outputs": []
    },
    {
      "cell_type": "code",
      "source": [
        "!git add .\n",
        "!git commit -m \"Initial commit - Added hospital readmission project files\"\n"
      ],
      "metadata": {
        "colab": {
          "base_uri": "https://localhost:8080/"
        },
        "id": "EDlUqn9B8pf5",
        "outputId": "33b4a999-7649-421e-a850-efb7ac97e973"
      },
      "execution_count": 30,
      "outputs": [
        {
          "output_type": "stream",
          "name": "stdout",
          "text": [
            "[main (root-commit) 958c1ea] Initial commit - Added hospital readmission project files\n",
            " 4 files changed, 19335 insertions(+)\n",
            " create mode 100644 data/cleaned_hospital_readmissions.csv\n",
            " create mode 100644 models/neural_network_model.h5\n",
            " create mode 100644 models/xgboost_model.pkl\n",
            " create mode 100644 requirements.txt\n"
          ]
        }
      ]
    },
    {
      "cell_type": "code",
      "source": [
        "!git push -u origin main\n"
      ],
      "metadata": {
        "colab": {
          "base_uri": "https://localhost:8080/"
        },
        "id": "uDuZtamP-5Qy",
        "outputId": "e8a8bab1-2e20-41e8-8d04-113f54b3b187"
      },
      "execution_count": 39,
      "outputs": [
        {
          "output_type": "stream",
          "name": "stdout",
          "text": [
            "Enumerating objects: 8, done.\n",
            "Counting objects:  12% (1/8)\rCounting objects:  25% (2/8)\rCounting objects:  37% (3/8)\rCounting objects:  50% (4/8)\rCounting objects:  62% (5/8)\rCounting objects:  75% (6/8)\rCounting objects:  87% (7/8)\rCounting objects: 100% (8/8)\rCounting objects: 100% (8/8), done.\n",
            "Delta compression using up to 2 threads\n",
            "Compressing objects:  12% (1/8)\rCompressing objects:  25% (2/8)\rCompressing objects:  37% (3/8)\rCompressing objects:  50% (4/8)\rCompressing objects:  62% (5/8)\rCompressing objects:  75% (6/8)\rCompressing objects:  87% (7/8)\rCompressing objects: 100% (8/8)\rCompressing objects: 100% (8/8), done.\n",
            "Writing objects:  12% (1/8)\rWriting objects:  25% (2/8)\rWriting objects:  37% (3/8)\rWriting objects:  50% (4/8)\rWriting objects:  62% (5/8)\rWriting objects:  75% (6/8)\rWriting objects:  87% (7/8)\rWriting objects: 100% (8/8)\rWriting objects: 100% (8/8), 609.01 KiB | 3.09 MiB/s, done.\n",
            "Total 8 (delta 0), reused 0 (delta 0), pack-reused 0\n",
            "To https://github.com/hrithikda/Hospital-Readmission-Prediction.git\n",
            " * [new branch]      main -> main\n",
            "Branch 'main' set up to track remote branch 'main' from 'origin'.\n"
          ]
        }
      ]
    }
  ]
}